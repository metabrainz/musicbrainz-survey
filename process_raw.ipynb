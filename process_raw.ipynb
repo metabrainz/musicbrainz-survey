{
 "cells": [
  {
   "cell_type": "markdown",
   "metadata": {},
   "source": [
    "# Process raw survey data\n",
    "The goal of this notebook is to clean up the raw survey data, seperate demographic data into a seperate file and shuffle all of its columns to prevent association with the other dataset, which may include MB usernames, as promised in the survey form.\n",
    "\n",
    "Finally, a third output is going to be the survey data without usernames or email addresses for public release.\n",
    "\n",
    "## Import pandas"
   ]
  },
  {
   "cell_type": "code",
   "execution_count": null,
   "metadata": {},
   "outputs": [],
   "source": [
    "import pandas as pd"
   ]
  },
  {
   "cell_type": "markdown",
   "metadata": {},
   "source": [
    "## Load data csv"
   ]
  },
  {
   "cell_type": "code",
   "execution_count": null,
   "metadata": {},
   "outputs": [],
   "source": [
    "data_raw = pd.read_csv(\"MusicBrainz User Survey (Responses) - Form responses 1.csv\")\n",
    "data_raw"
   ]
  },
  {
   "cell_type": "markdown",
   "metadata": {},
   "source": [
    "## List headers"
   ]
  },
  {
   "cell_type": "code",
   "execution_count": null,
   "metadata": {},
   "outputs": [],
   "source": [
    "list(data_raw)"
   ]
  },
  {
   "cell_type": "markdown",
   "metadata": {},
   "source": [
    "## Remove rubbish columns"
   ]
  },
  {
   "cell_type": "code",
   "execution_count": null,
   "metadata": {},
   "outputs": [],
   "source": [
    "data = data_raw.drop(data_raw.columns[[39,40,41,42,43]], 1)\n",
    "list(data)"
   ]
  },
  {
   "cell_type": "markdown",
   "metadata": {},
   "source": [
    "## Seperate demographic data"
   ]
  },
  {
   "cell_type": "code",
   "execution_count": null,
   "metadata": {},
   "outputs": [],
   "source": [
    "demo_cols = [\"How old are you?\", \"What gender do you identify with?\", \"Which languages do you speak?\",\n",
    "             \"Are you a musician yourself?\", \"Are you employed in the music industry?\",\n",
    "             \"Which country do you currently live in?\"]\n",
    "demo = data.filter(demo_cols, axis=1)\n",
    "demo"
   ]
  },
  {
   "cell_type": "markdown",
   "metadata": {},
   "source": [
    "## Remove demo columns from general dataset"
   ]
  },
  {
   "cell_type": "code",
   "execution_count": null,
   "metadata": {},
   "outputs": [],
   "source": [
    "general = data.drop(demo_cols, axis=1)\n",
    "list(general)"
   ]
  },
  {
   "cell_type": "markdown",
   "metadata": {},
   "source": [
    "## Shuffle demo data to prevent association with general dataset"
   ]
  },
  {
   "cell_type": "code",
   "execution_count": null,
   "metadata": {},
   "outputs": [],
   "source": [
    "demo_shuffled = demo.sample(frac=1).reset_index(drop=True)\n",
    "demo_shuffled"
   ]
  },
  {
   "cell_type": "markdown",
   "metadata": {},
   "source": [
    "## Create variant of general dataset without usernames/emails"
   ]
  },
  {
   "cell_type": "code",
   "execution_count": null,
   "metadata": {},
   "outputs": [],
   "source": [
    "general_cleaned = general.drop(\"If you're okay with us contacting you in case we have follow-up questions, can you leave your MB user name or email address?\", axis=1)\n",
    "list(general_cleaned)"
   ]
  },
  {
   "cell_type": "markdown",
   "metadata": {},
   "source": [
    "## Save files"
   ]
  },
  {
   "cell_type": "code",
   "execution_count": null,
   "metadata": {},
   "outputs": [],
   "source": [
    "general.to_csv(\"mb_usersurvey_2017_general_SENSITIVE.csv\", index=False)\n",
    "general_cleaned.to_csv(\"mb_usersurvey_2017_general.csv\", index=False)\n",
    "demo_shuffled.to_csv(\"mb_usersurvey_2017_demo.csv\", index=False)"
   ]
  }
 ],
 "metadata": {
  "kernelspec": {
   "display_name": "Python 3",
   "language": "python",
   "name": "python3"
  },
  "language_info": {
   "codemirror_mode": {
    "name": "ipython",
    "version": 3
   },
   "file_extension": ".py",
   "mimetype": "text/x-python",
   "name": "python",
   "nbconvert_exporter": "python",
   "pygments_lexer": "ipython3",
   "version": "3.6.2"
  }
 },
 "nbformat": 4,
 "nbformat_minor": 2
}
